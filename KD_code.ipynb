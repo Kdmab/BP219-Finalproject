{
 "cells": [
  {
   "cell_type": "code",
   "execution_count": 10,
   "id": "e59af00f",
   "metadata": {},
   "outputs": [],
   "source": [
    "import Bio\n",
    "import Bio.PDB.parse_pdb_header\n",
    "\n",
    "#creates a dictionary for items in the PDB header, named header\n",
    "def read_pdb_header (input_file):\n",
    "    input_file = \"/Users/kevin/Downloads/7rk2.pdb\"\n",
    "    #will need to change for loop to work\n",
    "    header = Bio.PDB.parse_pdb_header(input_file)\n",
    "    return (header)\n",
    "\n",
    "input_file = \"/Users/kevin/Downloads/7rk2.pdb\"\n",
    "header = read_pdb_header (input_file)\n",
    "\n",
    "#extracts the parameters of interest from the header dictionary as a new dictionary named subset_header\n",
    "keys_to_extract = [\"idcode\", \"structure_method\", \"resolution\", \"deposition_date\"]\n",
    "subset_header = {key: header[key] for key in keys_to_extract}\n",
    "\n",
    "#creates a dataframe from subset_header with each parameter in it's own column\n",
    "import pandas as pd\n",
    "df = pd.DataFrame ([subset_header])\n",
    "\n",
    "#writes dataframe as a csv file\n",
    "df.to_csv('full_data.csv')"
   ]
  },
  {
   "cell_type": "code",
   "execution_count": null,
   "id": "4418821b",
   "metadata": {},
   "outputs": [],
   "source": []
  },
  {
   "cell_type": "code",
   "execution_count": null,
   "id": "c27b4448",
   "metadata": {},
   "outputs": [],
   "source": [
    "#scratch work, Scooter recommended using os.walk but I'm def not doing it right\n",
    "import os\n",
    "For path, dirnames, filenames in os.walk ('/Users/kevin/Downloads', topdown=True):\n",
    "    if filename in filenames\n",
    "    print (filename)"
   ]
  },
  {
   "cell_type": "code",
   "execution_count": null,
   "id": "e9446778",
   "metadata": {},
   "outputs": [],
   "source": []
  },
  {
   "cell_type": "code",
   "execution_count": null,
   "id": "ca418f0a",
   "metadata": {},
   "outputs": [],
   "source": []
  },
  {
   "cell_type": "code",
   "execution_count": null,
   "id": "032660d1",
   "metadata": {},
   "outputs": [],
   "source": []
  },
  {
   "cell_type": "code",
   "execution_count": null,
   "id": "a300e34e",
   "metadata": {},
   "outputs": [],
   "source": []
  }
 ],
 "metadata": {
  "kernelspec": {
   "display_name": "Python 3 (ipykernel)",
   "language": "python",
   "name": "python3"
  },
  "language_info": {
   "codemirror_mode": {
    "name": "ipython",
    "version": 3
   },
   "file_extension": ".py",
   "mimetype": "text/x-python",
   "name": "python",
   "nbconvert_exporter": "python",
   "pygments_lexer": "ipython3",
   "version": "3.10.4"
  }
 },
 "nbformat": 4,
 "nbformat_minor": 5
}

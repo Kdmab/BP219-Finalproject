{
 "cells": [
  {
   "cell_type": "code",
   "execution_count": 46,
   "id": "e59af00f",
   "metadata": {},
   "outputs": [
    {
     "name": "stdout",
     "output_type": "stream",
     "text": [
      "[Empty DataFrame\n",
      "Columns: [idcode, structure_method, resolution, deposition_date]\n",
      "Index: [], Empty DataFrame\n",
      "Columns: [idcode, structure_method, resolution, deposition_date]\n",
      "Index: [], Empty DataFrame\n",
      "Columns: [idcode, structure_method, resolution, deposition_date]\n",
      "Index: [], Empty DataFrame\n",
      "Columns: [idcode, structure_method, resolution, deposition_date]\n",
      "Index: [], Empty DataFrame\n",
      "Columns: [idcode, structure_method, resolution, deposition_date]\n",
      "Index: [], Empty DataFrame\n",
      "Columns: [idcode, structure_method, resolution, deposition_date]\n",
      "Index: [], Empty DataFrame\n",
      "Columns: [idcode, structure_method, resolution, deposition_date]\n",
      "Index: [],   idcode     structure_method  resolution deposition_date\n",
      "0   6NR4  electron microscopy         4.3      2019-01-22]\n"
     ]
    }
   ],
   "source": [
    "import Bio\n",
    "import Bio.PDB.parse_pdb_header\n",
    "\n",
    "#creates a dictionary for items in the PDB header, named header\n",
    "def read_pdb_header (input_file):\n",
    "    input_file = \"/Users/kevin/Downloads/6nr4.pdb\"\n",
    "    #will need to change for loop to work\n",
    "    header = Bio.PDB.parse_pdb_header(input_file)\n",
    "    return (header)\n",
    "\n",
    "input_file = \"/Users/kevin/Downloads/6nr4.pdb\"\n",
    "header = read_pdb_header (input_file)\n",
    "\n",
    "#extracts the parameters of interest from the header dictionary as a new dictionary named subset_header\n",
    "keys_to_extract = [\"idcode\", \"structure_method\", \"resolution\", \"deposition_date\"]\n",
    "subset_header = {key: header[key] for key in keys_to_extract}\n",
    "\n",
    "#creates a dataframe from subset_header with each parameter in it's own column\n",
    "import pandas as pd\n",
    "df = pd.DataFrame ([subset_header])\n",
    "\n",
    "#print (df)\n",
    "\n",
    "#block to pull out data frames by technique and time interval, writes a list for plotting\n",
    "#select Xray, time interval1\n",
    "day1 = '1976-01-01'\n",
    "day2 = '1989-12-31'\n",
    "mask1 = (df['deposition_date'] > day1) & (df['deposition_date'] <= day2) & (df['structure_method'] == 'x-ray diffraction')\n",
    "X1 = df.loc[mask1]\n",
    "\n",
    "#select Xray, time interval2\n",
    "day3 = '1990-01-01'\n",
    "day4 = '1999-12-31'\n",
    "mask2 = (df['deposition_date'] > day3) & (df['deposition_date'] <= day4) & (df['structure_method'] == 'x-ray diffraction')\n",
    "X2 = df.loc[mask2]\n",
    "\n",
    "#select Xray, time interval3\n",
    "day5 = '2000-01-01'\n",
    "day6 = '2009-12-31'\n",
    "mask3 = (df['deposition_date'] > day5) & (df['deposition_date'] <= day6) & (df['structure_method'] == 'x-ray diffraction')\n",
    "X3 = df.loc[mask3]\n",
    "\n",
    "#select Xray, time interval4\n",
    "day7 = '2010-01-01'\n",
    "day8 = '2014-12-31'\n",
    "mask4 = (df['deposition_date'] > day7) & (df['deposition_date'] <= day8) & (df['structure_method'] == 'x-ray diffraction')\n",
    "X4 = df.loc[mask4]\n",
    "\n",
    "#select Xray, time interval5\n",
    "day9 = '2015-01-01'\n",
    "day10 = '2022-12-31'\n",
    "mask5 = (df['deposition_date'] > day9) & (df['deposition_date'] <= day10) & (df['structure_method'] == 'x-ray diffraction')\n",
    "X5 = df.loc[mask5]\n",
    "\n",
    "#select EM, time interval1\n",
    "day_1 = '1990-01-01'\n",
    "day_2 = '2009-12-31'\n",
    "mask_1 = (df['deposition_date'] > day_1) & (df['deposition_date'] <= day_2) & (df['structure_method'] == 'electron microscopy')\n",
    "E1 = df.loc[mask_1]\n",
    "\n",
    "#select EM, time interval2\n",
    "day_3 = '2010-01-01'\n",
    "day_4 = '2014-12-31'\n",
    "mask_2 = (df['deposition_date'] > day_3) & (df['deposition_date'] <= day_4) & (df['structure_method'] == 'electron microscopy')\n",
    "E2 = df.loc[mask_2]\n",
    "\n",
    "#select EM, time interval3\n",
    "day_5 = '2015-01-01'\n",
    "day_6 = '2022-12-31'\n",
    "mask_3 = (df['deposition_date'] > day_5) & (df['deposition_date'] <= day_6) & (df['structure_method'] == 'electron microscopy')\n",
    "E3 = df.loc[mask_3]\n",
    "\n",
    "toplot = [X1, X2, X3, X4, X5, E1, E2, E3]\n",
    "\n",
    "print (toplot)\n",
    "\n",
    "#writes dataframe as a csv file\n",
    "#df.to_csv('full_data.csv')"
   ]
  },
  {
   "cell_type": "code",
   "execution_count": null,
   "id": "4418821b",
   "metadata": {},
   "outputs": [],
   "source": []
  },
  {
   "cell_type": "code",
   "execution_count": null,
   "id": "c27b4448",
   "metadata": {},
   "outputs": [],
   "source": [
    "#scratch work, Scooter recommended using os.walk but I'm def not doing it right\n",
    "import os\n",
    "For path, dirnames, filenames in os.walk ('/Users/kevin/Downloads', topdown=True):\n",
    "    if filename in filenames\n",
    "    print (filename)"
   ]
  },
  {
   "cell_type": "code",
   "execution_count": null,
   "id": "e9446778",
   "metadata": {},
   "outputs": [],
   "source": []
  },
  {
   "cell_type": "code",
   "execution_count": null,
   "id": "ca418f0a",
   "metadata": {},
   "outputs": [],
   "source": []
  },
  {
   "cell_type": "code",
   "execution_count": null,
   "id": "032660d1",
   "metadata": {},
   "outputs": [],
   "source": []
  },
  {
   "cell_type": "code",
   "execution_count": null,
   "id": "2ea44ea0",
   "metadata": {},
   "outputs": [],
   "source": []
  }
 ],
 "metadata": {
  "kernelspec": {
   "display_name": "Python 3 (ipykernel)",
   "language": "python",
   "name": "python3"
  },
  "language_info": {
   "codemirror_mode": {
    "name": "ipython",
    "version": 3
   },
   "file_extension": ".py",
   "mimetype": "text/x-python",
   "name": "python",
   "nbconvert_exporter": "python",
   "pygments_lexer": "ipython3",
   "version": "3.10.4"
  }
 },
 "nbformat": 4,
 "nbformat_minor": 5
}

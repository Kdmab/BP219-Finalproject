{
 "cells": [
  {
   "cell_type": "code",
   "execution_count": 3,
   "id": "e59af00f",
   "metadata": {},
   "outputs": [],
   "source": [
    "import Bio\n",
    "import Bio.PDB.parse_pdb_header"
   ]
  },
  {
   "cell_type": "code",
   "execution_count": 24,
   "id": "4418821b",
   "metadata": {},
   "outputs": [],
   "source": [
    "#creates a dictionary for items in the PDB header, named header\n",
    "def read_pdb_header (input_file):\n",
    "    input_file = \"7rk2.pdb\"\n",
    "    #will need to change for loop to work\n",
    "    header = Bio.PDB.parse_pdb_header(input_file)\n",
    "    return (header)"
   ]
  },
  {
   "cell_type": "code",
   "execution_count": 25,
   "id": "c27b4448",
   "metadata": {},
   "outputs": [
    {
     "ename": "NameError",
     "evalue": "name 'header' is not defined",
     "output_type": "error",
     "traceback": [
      "\u001b[0;31m---------------------------------------------------------------------------\u001b[0m",
      "\u001b[0;31mNameError\u001b[0m                                 Traceback (most recent call last)",
      "Cell \u001b[0;32mIn [25], line 3\u001b[0m\n\u001b[1;32m      1\u001b[0m \u001b[38;5;66;03m#extracts the parameters of interest from the header dictionary as a new dictionary named subset_header\u001b[39;00m\n\u001b[1;32m      2\u001b[0m keys_to_extract \u001b[38;5;241m=\u001b[39m [\u001b[38;5;124m\"\u001b[39m\u001b[38;5;124midcode\u001b[39m\u001b[38;5;124m\"\u001b[39m, \u001b[38;5;124m\"\u001b[39m\u001b[38;5;124mstructure_method\u001b[39m\u001b[38;5;124m\"\u001b[39m, \u001b[38;5;124m\"\u001b[39m\u001b[38;5;124mresolution\u001b[39m\u001b[38;5;124m\"\u001b[39m, \u001b[38;5;124m\"\u001b[39m\u001b[38;5;124mdeposition_date\u001b[39m\u001b[38;5;124m\"\u001b[39m]\n\u001b[0;32m----> 3\u001b[0m subset_header \u001b[38;5;241m=\u001b[39m {key: header[key] \u001b[38;5;28;01mfor\u001b[39;00m key \u001b[38;5;129;01min\u001b[39;00m keys_to_extract}\n\u001b[1;32m      4\u001b[0m \u001b[38;5;28mprint\u001b[39m (subset_header)\n",
      "Cell \u001b[0;32mIn [25], line 3\u001b[0m, in \u001b[0;36m<dictcomp>\u001b[0;34m(.0)\u001b[0m\n\u001b[1;32m      1\u001b[0m \u001b[38;5;66;03m#extracts the parameters of interest from the header dictionary as a new dictionary named subset_header\u001b[39;00m\n\u001b[1;32m      2\u001b[0m keys_to_extract \u001b[38;5;241m=\u001b[39m [\u001b[38;5;124m\"\u001b[39m\u001b[38;5;124midcode\u001b[39m\u001b[38;5;124m\"\u001b[39m, \u001b[38;5;124m\"\u001b[39m\u001b[38;5;124mstructure_method\u001b[39m\u001b[38;5;124m\"\u001b[39m, \u001b[38;5;124m\"\u001b[39m\u001b[38;5;124mresolution\u001b[39m\u001b[38;5;124m\"\u001b[39m, \u001b[38;5;124m\"\u001b[39m\u001b[38;5;124mdeposition_date\u001b[39m\u001b[38;5;124m\"\u001b[39m]\n\u001b[0;32m----> 3\u001b[0m subset_header \u001b[38;5;241m=\u001b[39m {key: \u001b[43mheader\u001b[49m[key] \u001b[38;5;28;01mfor\u001b[39;00m key \u001b[38;5;129;01min\u001b[39;00m keys_to_extract}\n\u001b[1;32m      4\u001b[0m \u001b[38;5;28mprint\u001b[39m (subset_header)\n",
      "\u001b[0;31mNameError\u001b[0m: name 'header' is not defined"
     ]
    }
   ],
   "source": [
    "#extracts the parameters of interest from the header dictionary as a new dictionary named subset_header\n",
    "keys_to_extract = [\"idcode\", \"structure_method\", \"resolution\", \"deposition_date\"]\n",
    "subset_header = {key: header[key] for key in keys_to_extract}\n",
    "print (subset_header)"
   ]
  },
  {
   "cell_type": "code",
   "execution_count": 26,
   "id": "e9446778",
   "metadata": {},
   "outputs": [
    {
     "ename": "NameError",
     "evalue": "name 'subset_header' is not defined",
     "output_type": "error",
     "traceback": [
      "\u001b[0;31m---------------------------------------------------------------------------\u001b[0m",
      "\u001b[0;31mNameError\u001b[0m                                 Traceback (most recent call last)",
      "Cell \u001b[0;32mIn [26], line 3\u001b[0m\n\u001b[1;32m      1\u001b[0m \u001b[38;5;66;03m#creates a dataframe from subset_header with each parameter in it's own column\u001b[39;00m\n\u001b[1;32m      2\u001b[0m \u001b[38;5;28;01mimport\u001b[39;00m \u001b[38;5;21;01mpandas\u001b[39;00m \u001b[38;5;28;01mas\u001b[39;00m \u001b[38;5;21;01mpd\u001b[39;00m\n\u001b[0;32m----> 3\u001b[0m df \u001b[38;5;241m=\u001b[39m pd\u001b[38;5;241m.\u001b[39mDataFrame ([\u001b[43msubset_header\u001b[49m])\n\u001b[1;32m      4\u001b[0m \u001b[38;5;28mprint\u001b[39m (df)\n",
      "\u001b[0;31mNameError\u001b[0m: name 'subset_header' is not defined"
     ]
    }
   ],
   "source": [
    "#creates a dataframe from subset_header with each parameter in it's own column\n",
    "import pandas as pd\n",
    "df = pd.DataFrame ([subset_header])\n",
    "print (df)"
   ]
  },
  {
   "cell_type": "code",
   "execution_count": null,
   "id": "ca418f0a",
   "metadata": {},
   "outputs": [],
   "source": []
  },
  {
   "cell_type": "code",
   "execution_count": null,
   "id": "032660d1",
   "metadata": {},
   "outputs": [],
   "source": []
  }
 ],
 "metadata": {
  "kernelspec": {
   "display_name": "Python 3 (ipykernel)",
   "language": "python",
   "name": "python3"
  },
  "language_info": {
   "codemirror_mode": {
    "name": "ipython",
    "version": 3
   },
   "file_extension": ".py",
   "mimetype": "text/x-python",
   "name": "python",
   "nbconvert_exporter": "python",
   "pygments_lexer": "ipython3",
   "version": "3.10.4"
  }
 },
 "nbformat": 4,
 "nbformat_minor": 5
}

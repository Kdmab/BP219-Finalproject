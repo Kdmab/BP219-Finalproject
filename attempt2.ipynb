{
 "cells": [
  {
   "cell_type": "code",
   "execution_count": 109,
   "id": "9aa2bea6",
   "metadata": {},
   "outputs": [
    {
     "data": {
      "text/plain": [
       "['7n98.pdb', '7qud.pdb', '7ctq.pdb', '7u8d.pdb', '5f4j.pdb']"
      ]
     },
     "execution_count": 109,
     "metadata": {},
     "output_type": "execute_result"
    }
   ],
   "source": [
    "import Bio\n",
    "import Bio.PDB.parse_pdb_header\n",
    "\n",
    "dirpath = '/Users/josephpepe/Desktop/pdb1/'#defining the directory location as a string variable\n",
    "import os\n",
    "directory = os.fsencode(dirpath) \n",
    "\n",
    "import pandas\n",
    "pdbfilenames = [] #creating an empty list that will be filled by the for loop. list of names in the directory\n",
    "\n",
    "for file in os.listdir(directory): \n",
    "    filename = os.fsdecode(file)\n",
    "    if filename.endswith(\".pdb\"):\n",
    "        pdbfilenames.append(filename)\n",
    "\n",
    "#itrange = len(pdbfilenames)\n",
    "pdbfilenames\n",
    "#len(pdbfilenames)\n",
    "#itrange "
   ]
  },
  {
   "cell_type": "code",
   "execution_count": 121,
   "id": "76282f16",
   "metadata": {},
   "outputs": [
    {
     "ename": "FileNotFoundError",
     "evalue": "[Errno 2] No such file or directory: '7n98.pdb'",
     "output_type": "error",
     "traceback": [
      "\u001b[0;31m---------------------------------------------------------------------------\u001b[0m",
      "\u001b[0;31mFileNotFoundError\u001b[0m                         Traceback (most recent call last)",
      "Input \u001b[0;32mIn [121]\u001b[0m, in \u001b[0;36m<cell line: 10>\u001b[0;34m()\u001b[0m\n\u001b[1;32m     10\u001b[0m \u001b[38;5;28;01mfor\u001b[39;00m i \u001b[38;5;129;01min\u001b[39;00m \u001b[38;5;28mrange\u001b[39m(\u001b[38;5;28mlen\u001b[39m(pdbfilenames)\u001b[38;5;241m-\u001b[39m\u001b[38;5;241m1\u001b[39m):\n\u001b[1;32m     11\u001b[0m     \u001b[38;5;28;01mwith\u001b[39;00m \u001b[38;5;28mopen\u001b[39m(\u001b[38;5;124m\"\u001b[39m\u001b[38;5;124m/Users/josephpepe/Desktop/pdb1/\u001b[39m\u001b[38;5;124m\"\u001b[39m\u001b[38;5;241m+\u001b[39mpdbfilenames[i], \u001b[38;5;124m\"\u001b[39m\u001b[38;5;124mrb\u001b[39m\u001b[38;5;124m\"\u001b[39m):\n\u001b[0;32m---> 12\u001b[0m         \u001b[43mread_pdb_header\u001b[49m\u001b[43m(\u001b[49m\u001b[43mpdbfilenames\u001b[49m\u001b[43m[\u001b[49m\u001b[43mi\u001b[49m\u001b[43m]\u001b[49m\u001b[43m)\u001b[49m\n\u001b[1;32m     14\u001b[0m \u001b[38;5;66;03m#nextheader = read_pdb_header(pdbfilenames[i])\u001b[39;00m\n\u001b[1;32m     15\u001b[0m \u001b[38;5;66;03m#header.append(nextheader)\u001b[39;00m\n\u001b[1;32m     16\u001b[0m header\n",
      "Input \u001b[0;32mIn [121]\u001b[0m, in \u001b[0;36mread_pdb_header\u001b[0;34m(input_file, header)\u001b[0m\n\u001b[1;32m      3\u001b[0m \u001b[38;5;28;01mdef\u001b[39;00m \u001b[38;5;21mread_pdb_header\u001b[39m (input_file, header\u001b[38;5;241m=\u001b[39m[]):\n\u001b[1;32m      4\u001b[0m                                     \u001b[38;5;66;03m#for x in range(len(pdbfilenames)):\u001b[39;00m\n\u001b[1;32m      5\u001b[0m                                     \u001b[38;5;66;03m#input_file = pdbfilenames[x]\u001b[39;00m\n\u001b[0;32m----> 6\u001b[0m     headerdetails \u001b[38;5;241m=\u001b[39m \u001b[43mBio\u001b[49m\u001b[38;5;241;43m.\u001b[39;49m\u001b[43mPDB\u001b[49m\u001b[38;5;241;43m.\u001b[39;49m\u001b[43mparse_pdb_header\u001b[49m\u001b[43m(\u001b[49m\u001b[43minput_file\u001b[49m\u001b[43m)\u001b[49m\n\u001b[1;32m      7\u001b[0m     header\u001b[38;5;241m.\u001b[39mappend(headerdetails)\n",
      "File \u001b[0;32m/opt/anaconda3/lib/python3.9/site-packages/Bio/PDB/parse_pdb_header.py:123\u001b[0m, in \u001b[0;36mparse_pdb_header\u001b[0;34m(infile)\u001b[0m\n\u001b[1;32m    116\u001b[0m \u001b[38;5;124;03m\"\"\"Return the header lines of a pdb file as a dictionary.\u001b[39;00m\n\u001b[1;32m    117\u001b[0m \n\u001b[1;32m    118\u001b[0m \u001b[38;5;124;03mDictionary keys are: head, deposition_date, release_date, structure_method,\u001b[39;00m\n\u001b[1;32m    119\u001b[0m \u001b[38;5;124;03mresolution, structure_reference, journal_reference, author and\u001b[39;00m\n\u001b[1;32m    120\u001b[0m \u001b[38;5;124;03mcompound.\u001b[39;00m\n\u001b[1;32m    121\u001b[0m \u001b[38;5;124;03m\"\"\"\u001b[39;00m\n\u001b[1;32m    122\u001b[0m header \u001b[38;5;241m=\u001b[39m []\n\u001b[0;32m--> 123\u001b[0m \u001b[38;5;28;01mwith\u001b[39;00m File\u001b[38;5;241m.\u001b[39mas_handle(infile) \u001b[38;5;28;01mas\u001b[39;00m f:\n\u001b[1;32m    124\u001b[0m     \u001b[38;5;28;01mfor\u001b[39;00m l \u001b[38;5;129;01min\u001b[39;00m f:\n\u001b[1;32m    125\u001b[0m         record_type \u001b[38;5;241m=\u001b[39m l[\u001b[38;5;241m0\u001b[39m:\u001b[38;5;241m6\u001b[39m]\n",
      "File \u001b[0;32m/opt/anaconda3/lib/python3.9/contextlib.py:119\u001b[0m, in \u001b[0;36m_GeneratorContextManager.__enter__\u001b[0;34m(self)\u001b[0m\n\u001b[1;32m    117\u001b[0m \u001b[38;5;28;01mdel\u001b[39;00m \u001b[38;5;28mself\u001b[39m\u001b[38;5;241m.\u001b[39margs, \u001b[38;5;28mself\u001b[39m\u001b[38;5;241m.\u001b[39mkwds, \u001b[38;5;28mself\u001b[39m\u001b[38;5;241m.\u001b[39mfunc\n\u001b[1;32m    118\u001b[0m \u001b[38;5;28;01mtry\u001b[39;00m:\n\u001b[0;32m--> 119\u001b[0m     \u001b[38;5;28;01mreturn\u001b[39;00m \u001b[38;5;28;43mnext\u001b[39;49m\u001b[43m(\u001b[49m\u001b[38;5;28;43mself\u001b[39;49m\u001b[38;5;241;43m.\u001b[39;49m\u001b[43mgen\u001b[49m\u001b[43m)\u001b[49m\n\u001b[1;32m    120\u001b[0m \u001b[38;5;28;01mexcept\u001b[39;00m \u001b[38;5;167;01mStopIteration\u001b[39;00m:\n\u001b[1;32m    121\u001b[0m     \u001b[38;5;28;01mraise\u001b[39;00m \u001b[38;5;167;01mRuntimeError\u001b[39;00m(\u001b[38;5;124m\"\u001b[39m\u001b[38;5;124mgenerator didn\u001b[39m\u001b[38;5;124m'\u001b[39m\u001b[38;5;124mt yield\u001b[39m\u001b[38;5;124m\"\u001b[39m) \u001b[38;5;28;01mfrom\u001b[39;00m \u001b[38;5;28mNone\u001b[39m\n",
      "File \u001b[0;32m/opt/anaconda3/lib/python3.9/site-packages/Bio/File.py:72\u001b[0m, in \u001b[0;36mas_handle\u001b[0;34m(handleish, mode, **kwargs)\u001b[0m\n\u001b[1;32m     30\u001b[0m \u001b[38;5;124mr\u001b[39m\u001b[38;5;124;03m\"\"\"Context manager to ensure we are using a handle.\u001b[39;00m\n\u001b[1;32m     31\u001b[0m \n\u001b[1;32m     32\u001b[0m \u001b[38;5;124;03mContext manager for arguments that can be passed to SeqIO and AlignIO read, write,\u001b[39;00m\n\u001b[0;32m   (...)\u001b[0m\n\u001b[1;32m     69\u001b[0m \n\u001b[1;32m     70\u001b[0m \u001b[38;5;124;03m\"\"\"\u001b[39;00m\n\u001b[1;32m     71\u001b[0m \u001b[38;5;28;01mtry\u001b[39;00m:\n\u001b[0;32m---> 72\u001b[0m     \u001b[38;5;28;01mwith\u001b[39;00m \u001b[38;5;28;43mopen\u001b[39;49m\u001b[43m(\u001b[49m\u001b[43mhandleish\u001b[49m\u001b[43m,\u001b[49m\u001b[43m \u001b[49m\u001b[43mmode\u001b[49m\u001b[43m,\u001b[49m\u001b[43m \u001b[49m\u001b[38;5;241;43m*\u001b[39;49m\u001b[38;5;241;43m*\u001b[39;49m\u001b[43mkwargs\u001b[49m\u001b[43m)\u001b[49m \u001b[38;5;28;01mas\u001b[39;00m fp:\n\u001b[1;32m     73\u001b[0m         \u001b[38;5;28;01myield\u001b[39;00m fp\n\u001b[1;32m     74\u001b[0m \u001b[38;5;28;01mexcept\u001b[39;00m \u001b[38;5;167;01mTypeError\u001b[39;00m:\n",
      "\u001b[0;31mFileNotFoundError\u001b[0m: [Errno 2] No such file or directory: '7n98.pdb'"
     ]
    }
   ],
   "source": [
    "#creates a dictionary for items in the PDB header, named header\n",
    "\n",
    "def read_pdb_header (input_file, header=[]):\n",
    "                                    #for x in range(len(pdbfilenames)):\n",
    "                                    #input_file = pdbfilenames[x]\n",
    "    headerdetails = Bio.PDB.parse_pdb_header(input_file)\n",
    "    header.append(headerdetails)\n",
    "\n",
    "    \n",
    "for i in range(len(pdbfilenames)-1):\n",
    "    with open(\"/Users/josephpepe/Desktop/pdb1/\"+pdbfilenames[i], \"rb\"):\n",
    "        read_pdb_header(pdbfilenames[i])\n",
    "\n",
    "#nextheader = read_pdb_header(pdbfilenames[i])\n",
    "#header.append(nextheader)\n",
    "header\n",
    "#subsetheader\n",
    "#subsetheader = []\n",
    "#keys_to_extract = [\"idcode\", \"structure_method\", \"resolution\", \"deposition_date\"]\n",
    "#for index in pdbfilenames:\n",
    "#    subset_header = {key: header[key] for key in keys_to_extract}\n",
    "#    subsetheader.append(subset_header)\n",
    "    #subset_header = subsetheader[index1]\n",
    "#subsetheader"
   ]
  },
  {
   "cell_type": "code",
   "execution_count": 42,
   "id": "70c4aee5",
   "metadata": {},
   "outputs": [],
   "source": [
    "\n",
    "#import Bio.PDB.parse_pdb_header\n",
    "#for index in range(itrange):\n",
    "#    input_file = pdbfilenames[index]\n",
    "#    header = read_pdb_header (input_file)\n",
    "\n",
    "#extracts the parameters of interest from the header dictionary as a new dictionary named subset_header\n",
    "#keys_to_extract = [\"idcode\", \"structure_method\", \"resolution\", \"deposition_date\"]\n",
    "#subset_header = {key: header[key] for key in keys_to_extract}\n",
    "#print (subset_header)"
   ]
  },
  {
   "cell_type": "code",
   "execution_count": 99,
   "id": "a86e3385",
   "metadata": {},
   "outputs": [
    {
     "name": "stdout",
     "output_type": "stream",
     "text": [
      "  idcode     structure_method  resolution deposition_date\n",
      "0   7Q23  electron microscopy         4.3      2021-10-22\n"
     ]
    }
   ],
   "source": [
    "#creates a dataframe from subset_header with each parameter in it's own column\n",
    "import pandas as pd\n",
    "df = pd.DataFrame ([subset_header])\n",
    "print (df)"
   ]
  },
  {
   "cell_type": "code",
   "execution_count": 9,
   "id": "ca24fd11",
   "metadata": {},
   "outputs": [],
   "source": [
    "#scratch work, Scooter recommended using os.walk but I'm def not doing it right\n",
    "#import os\n",
    "#For path, dirnames, filenames in os.walk ('/Users/kevin/Downloads', topdown=True):\n",
    "#    if filename in filenames\n",
    "#    print (filename)"
   ]
  },
  {
   "cell_type": "code",
   "execution_count": null,
   "id": "6aab9cd8",
   "metadata": {},
   "outputs": [],
   "source": []
  }
 ],
 "metadata": {
  "kernelspec": {
   "display_name": "Python 3 (ipykernel)",
   "language": "python",
   "name": "python3"
  },
  "language_info": {
   "codemirror_mode": {
    "name": "ipython",
    "version": 3
   },
   "file_extension": ".py",
   "mimetype": "text/x-python",
   "name": "python",
   "nbconvert_exporter": "python",
   "pygments_lexer": "ipython3",
   "version": "3.9.12"
  }
 },
 "nbformat": 4,
 "nbformat_minor": 5
}
